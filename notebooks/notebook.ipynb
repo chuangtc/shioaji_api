{
 "cells": [
  {
   "cell_type": "code",
   "execution_count": 1,
   "metadata": {},
   "outputs": [
    {
     "ename": "SyntaxError",
     "evalue": "invalid syntax (1162288400.py, line 2)",
     "output_type": "error",
     "traceback": [
      "\u001b[1;36m  Cell \u001b[1;32mIn[1], line 2\u001b[1;36m\u001b[0m\n\u001b[1;33m    [![Open in Colab](https://colab.research.google.com/assets/colab-badge.svg)](https://colab.research.google.com/github/chuangtc/Shiaoji_spgo/blob/main/notebooks/notebook.ipynb)\u001b[0m\n\u001b[1;37m     ^\u001b[0m\n\u001b[1;31mSyntaxError\u001b[0m\u001b[1;31m:\u001b[0m invalid syntax\n"
     ]
    }
   ],
   "source": [
    "##\n",
    "[![Open in Colab](https://colab.research.google.com/assets/colab-badge.svg)](https://colab.research.google.com/github/chuangtc/shiaoji_api/blob/main/notebooks/notebook.ipynb)\n"
   ]
  },
  {
   "cell_type": "code",
   "execution_count": null,
   "metadata": {},
   "outputs": [],
   "source": [
    "## Install required library\n",
    "!pip install shioaji\n",
    "## Check simulation 模擬環境的登入\n",
    "import shioaji as sj\n",
    "\n",
    "API_KEY = 'YOUT_API_KEY'\n",
    "SECRET_KEY = 'YOUR_SECRET_KEY'\n",
    "api = sj.Shioaji(simulation=True) # 模擬模式\n",
    "accounts = api.login(\n",
    "    api_key=API_KEY,\n",
    "    secret_key=SECRET_KEY  \n",
    ")\n",
    "accounts\n",
    "print(accounts)\n"
   ]
  }
 ],
 "metadata": {
  "kernelspec": {
   "display_name": "Python 3",
   "language": "python",
   "name": "python3"
  },
  "language_info": {
   "codemirror_mode": {
    "name": "ipython",
    "version": 3
   },
   "file_extension": ".py",
   "mimetype": "text/x-python",
   "name": "python",
   "nbconvert_exporter": "python",
   "pygments_lexer": "ipython3",
   "version": "3.10.11"
  },
  "orig_nbformat": 4
 },
 "nbformat": 4,
 "nbformat_minor": 2
}
