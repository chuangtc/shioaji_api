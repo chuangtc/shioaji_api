{
 "cells": [
  {
   "attachments": {},
   "cell_type": "markdown",
   "metadata": {},
   "source": [
    "\n",
    "[![Open In Colab](https://colab.research.google.com/assets/colab-badge.svg)](https://colab.research.google.com/github/chuangtc/shioaji_api/blob/master/notebooks/notebook.ipynb)\n"
   ]
  },
  {
   "cell_type": "code",
   "execution_count": null,
   "metadata": {},
   "outputs": [],
   "source": [
    "## Install required library\n",
    "!pip install shioaji"
   ]
  },
  {
   "cell_type": "code",
   "execution_count": null,
   "metadata": {},
   "outputs": [],
   "source": [
    "## Check simulation 模擬環境的登入\n",
    "import shioaji as sj\n",
    "\n",
    "API_KEY = 'YOUT_API_KEY'\n",
    "SECRET_KEY = 'YOUR_SECRET_KEY'\n",
    "api = sj.Shioaji(simulation=True) # 模擬模式\n",
    "accounts = api.login(\n",
    "    api_key=API_KEY,\n",
    "    secret_key=SECRET_KEY  \n",
    ")\n",
    "accounts\n",
    "print(accounts)\n"
   ]
  }
 ],
 "metadata": {
  "kernelspec": {
   "display_name": "Python 3",
   "language": "python",
   "name": "python3"
  },
  "language_info": {
   "codemirror_mode": {
    "name": "ipython",
    "version": 3
   },
   "file_extension": ".py",
   "mimetype": "text/x-python",
   "name": "python",
   "nbconvert_exporter": "python",
   "pygments_lexer": "ipython3",
   "version": "3.10.11"
  },
  "orig_nbformat": 4
 },
 "nbformat": 4,
 "nbformat_minor": 2
}
